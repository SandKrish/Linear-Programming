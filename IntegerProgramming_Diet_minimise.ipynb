{
 "cells": [
  {
   "cell_type": "code",
   "execution_count": 54,
   "metadata": {},
   "outputs": [],
   "source": [
    "import pulp as p\n",
    "from pulp import *"
   ]
  },
  {
   "cell_type": "code",
   "execution_count": 55,
   "metadata": {},
   "outputs": [],
   "source": [
    "# Create a LP Minimise Cost problem\n",
    "Lp_prob = p.LpProblem('Minimise_Cost', p.LpMinimize)"
   ]
  },
  {
   "cell_type": "code",
   "execution_count": 56,
   "metadata": {},
   "outputs": [],
   "source": [
    "# Assigining Variables to Food Items\n",
    "#Bread(1Slice)= X\n",
    "#Peanut Butter( 1t) = Y\n",
    "#Strawberry Jelly (1 t) = Z\n",
    "#Graham Cracker = A\n",
    "#Milk (1 Cup) = B\n",
    "#Juice (1 cup) = C\n",
    "\n",
    "X  = p.LpVariable(\"X_Var\", lowBound = 0,  cat=\"Integer\") # X >= 0\n",
    "Y  = p.LpVariable(\"Y_Var\", lowBound = 0,  cat=\"Integer\") # Y >= 0\n",
    "Z  = p.LpVariable(\"Z_Var\", lowBound = 0,  cat=\"Integer\") # Z >= 0\n",
    "A  = p.LpVariable(\"A_Var\", lowBound = 0,  cat=\"Integer\") # A >= 0\n",
    "B  = p.LpVariable(\"B_Var\", lowBound = 0,  cat=\"Integer\") # B >= 0\n",
    "C  = p.LpVariable(\"C_Var\", lowBound = 0,  cat=\"Integer\") # C >= 0"
   ]
  },
  {
   "cell_type": "code",
   "execution_count": 57,
   "metadata": {},
   "outputs": [],
   "source": [
    "# Objective Function :-> Minimise Cost\n",
    "\n",
    "Lp_prob +=  5 * X + 4 * Y + 7 * Z + 8 * A + 15 * B + 35 * C\n",
    "\n",
    "# Constraints 1: Total Calories Constraint 400-600 Cal\n",
    "\n",
    "Lp_prob += 70 * X + 100 * Y + 50 * Z + 60 * A + 150 * B + 100 * C >= 400\n",
    "Lp_prob += 70 * X + 100 * Y + 50 * Z + 60 * A + 150 * B + 100 * C <= 600\n",
    "\n",
    "\n",
    "# Constraints 2: Fat Constraint\n",
    "Lp_prob +=  11 * X - 45 * Y + 15 * Z - 2 * A - 25 * B + 30 *C >= 0\n",
    "\n",
    "# Constraints 3: Vit C Constraint\n",
    "Lp_prob += 3 * Z + 2 * B + 120 * C >= 6\n",
    "\n",
    "# Constraints 4: Protein Constraint\n",
    "Lp_prob += 3 * X + 4 * Y + A + 8 * B + C >= 12\n",
    "\n",
    "# Constraints 5: Peatnut Butter & Jelly Constraint\n",
    "Lp_prob += Y - 2 * Z >= 0\n",
    "\n",
    "# Constraints 6 : Jelly Constraint\n",
    "Lp_prob += Z >= 1\n",
    "\n",
    "# Constraints 6 : Liquid Constraint\n",
    "Lp_prob += B + C >= 1\n",
    "\n",
    "\n"
   ]
  },
  {
   "cell_type": "code",
   "execution_count": 58,
   "metadata": {},
   "outputs": [
    {
     "name": "stdout",
     "output_type": "stream",
     "text": [
      "Lp_prob   : Minimise_Cost:\n",
      "MINIMIZE\n",
      "8*A_Var + 15*B_Var + 35*C_Var + 5*X_Var + 4*Y_Var + 7*Z_Var + 0\n",
      "SUBJECT TO\n",
      "_C1: 60 A_Var + 150 B_Var + 100 C_Var + 70 X_Var + 100 Y_Var + 50 Z_Var >= 400\n",
      "\n",
      "_C2: 60 A_Var + 150 B_Var + 100 C_Var + 70 X_Var + 100 Y_Var + 50 Z_Var <= 600\n",
      "\n",
      "_C3: - 2 A_Var - 25 B_Var + 30 C_Var + 11 X_Var - 45 Y_Var + 15 Z_Var >= 0\n",
      "\n",
      "_C4: 2 B_Var + 120 C_Var + 3 Z_Var >= 6\n",
      "\n",
      "_C5: A_Var + 8 B_Var + C_Var + 3 X_Var + 4 Y_Var >= 12\n",
      "\n",
      "_C6: Y_Var - 2 Z_Var >= 0\n",
      "\n",
      "_C7: Z_Var >= 1\n",
      "\n",
      "_C8: B_Var + C_Var >= 1\n",
      "\n",
      "VARIABLES\n",
      "0 <= A_Var Integer\n",
      "0 <= B_Var Integer\n",
      "0 <= C_Var Integer\n",
      "0 <= X_Var Integer\n",
      "0 <= Y_Var Integer\n",
      "0 <= Z_Var Integer\n",
      "\n"
     ]
    }
   ],
   "source": [
    "# Display the problem statement\n",
    "print('Lp_prob   :', Lp_prob)"
   ]
  },
  {
   "cell_type": "code",
   "execution_count": 59,
   "metadata": {},
   "outputs": [
    {
     "name": "stdout",
     "output_type": "stream",
     "text": [
      "Solver State  : Optimal\n"
     ]
    }
   ],
   "source": [
    "# Solver State \n",
    "status = Lp_prob.solve() # Solver\n",
    "print('Solver State  :', p.LpStatus[status]) # The solution status"
   ]
  },
  {
   "cell_type": "code",
   "execution_count": 60,
   "metadata": {},
   "outputs": [
    {
     "name": "stdout",
     "output_type": "stream",
     "text": [
      "No: of Bread Slice             : 2 \n",
      "Teaspoon of Peanut Butter      : 2 \n",
      "Teaspoon of Strawberry Jelly   : 1 \n",
      "No: of Graham Cracker          : 0 \n",
      "No: of Milk Cup                : 0 \n",
      "No: of Juice Cup               : 2 \n",
      "Optimal Solution               : 95\n"
     ]
    }
   ],
   "source": [
    "#Bread(1Slice)= X\n",
    "#Peanut Butter( 1t) = Y\n",
    "#Strawberry Jelly (1 t) = Z\n",
    "#Graham Cracker = A\n",
    "#Milk (1 Cup) = B\n",
    "#Juice (1 cup) = C\n",
    "# Printing the final solution\n",
    "print('No: of Bread Slice             :', p.value(X), \n",
    "    '\\nTeaspoon of Peanut Butter      :', p.value(Y), \n",
    "    '\\nTeaspoon of Strawberry Jelly   :', p.value(Z),\n",
    "    '\\nNo: of Graham Cracker          :', p.value(A),\n",
    "    '\\nNo: of Milk Cup                :', p.value(B),\n",
    "    '\\nNo: of Juice Cup               :', p.value(C),\n",
    "    '\\nOptimal Solution               :',p.value(Lp_prob.objective))"
   ]
  }
 ],
 "metadata": {
  "kernelspec": {
   "display_name": "Python 3",
   "language": "python",
   "name": "python3"
  },
  "language_info": {
   "codemirror_mode": {
    "name": "ipython",
    "version": 3
   },
   "file_extension": ".py",
   "mimetype": "text/x-python",
   "name": "python",
   "nbconvert_exporter": "python",
   "pygments_lexer": "ipython3",
   "version": "3.8.5"
  }
 },
 "nbformat": 4,
 "nbformat_minor": 4
}
