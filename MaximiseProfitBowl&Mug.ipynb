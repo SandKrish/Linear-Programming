{
  "nbformat": 4,
  "nbformat_minor": 0,
  "metadata": {
    "kernelspec": {
      "display_name": "Python 3",
      "language": "python",
      "name": "python3"
    },
    "language_info": {
      "codemirror_mode": {
        "name": "ipython",
        "version": 3
      },
      "file_extension": ".py",
      "mimetype": "text/x-python",
      "name": "python",
      "nbconvert_exporter": "python",
      "pygments_lexer": "ipython3",
      "version": "3.8.5"
    },
    "colab": {
      "name": "MaximiseProfitBowl&Mug.ipynb",
      "provenance": []
    }
  },
  "cells": [
    {
      "cell_type": "code",
      "metadata": {
        "id": "gSK9p1tIEjNL"
      },
      "source": [
        "# import the library pulp as p\n",
        "import pulp as p"
      ],
      "execution_count": null,
      "outputs": []
    },
    {
      "cell_type": "code",
      "metadata": {
        "id": "hViaTqTvEjNR"
      },
      "source": [
        "# Create a LP Profit Maximisation problem\n",
        "Lp_prob = p.LpProblem('To_Maximise_Profit', p.LpMaximize)"
      ],
      "execution_count": null,
      "outputs": []
    },
    {
      "cell_type": "code",
      "metadata": {
        "id": "yUDkhCzHEjNS"
      },
      "source": [
        "# Assigining problem Variables\n",
        "#No: of Bowls = x\n",
        "#No:of Mugs = y\n",
        "x = p.LpVariable(\"x\", lowBound = 0) # Create a variable x >= 0\n",
        "y = p.LpVariable(\"y\", lowBound = 0) # Create a variable y >= 0"
      ],
      "execution_count": null,
      "outputs": []
    },
    {
      "cell_type": "code",
      "metadata": {
        "id": "V5LfroCkEjNT"
      },
      "source": [
        "# Objective Function :-> Maximise Profit\n",
        "Lp_prob += 40 * x + 50 * y\n",
        "\n",
        "# Constraints 1: Labour Constraint\n",
        "Lp_prob += 1 * x + 2 * y <= 40\n",
        "\n",
        "# Constraints 2 : Resource(Clay) Constraint\n",
        "Lp_prob += 4 * x + 3 * y <= 120"
      ],
      "execution_count": null,
      "outputs": []
    },
    {
      "cell_type": "code",
      "metadata": {
        "id": "57aypYwOEjNU",
        "outputId": "14209886-1e79-4a8a-c0a9-35913eb05e61"
      },
      "source": [
        "# Display the problem statement\n",
        "print('Lp_prob   :', Lp_prob)"
      ],
      "execution_count": null,
      "outputs": [
        {
          "name": "stdout",
          "output_type": "stream",
          "text": [
            "Lp_prob   : To_Maximise_Profit:\n",
            "MAXIMIZE\n",
            "40*x + 50*y + 0\n",
            "SUBJECT TO\n",
            "_C1: x + 2 y <= 40\n",
            "\n",
            "_C2: 4 x + 3 y <= 120\n",
            "\n",
            "VARIABLES\n",
            "x Continuous\n",
            "y Continuous\n",
            "\n"
          ]
        }
      ]
    },
    {
      "cell_type": "code",
      "metadata": {
        "id": "OWkE5Dk3EjNV",
        "outputId": "3dae9026-8298-4305-caa6-1609c27d6b9c"
      },
      "source": [
        "# Solver State \n",
        "status = Lp_prob.solve() # Solver\n",
        "print('Solver State  :', p.LpStatus[status]) # The solution status"
      ],
      "execution_count": null,
      "outputs": [
        {
          "name": "stdout",
          "output_type": "stream",
          "text": [
            "Solver State  : Optimal\n"
          ]
        }
      ]
    },
    {
      "cell_type": "code",
      "metadata": {
        "id": "ACDsGTmcEjNW",
        "outputId": "15824e9f-ebe6-42fe-b6bc-2ca43a5c5e0c"
      },
      "source": [
        "# Printing the final solution\n",
        "print('No: of Bowls      :', p.value(x), '\\nNo: of Mugs       :', p.value(y),'\\nOptimal Solution  :', p.value(Lp_prob.objective))\n"
      ],
      "execution_count": null,
      "outputs": [
        {
          "name": "stdout",
          "output_type": "stream",
          "text": [
            "No: of Bowls      : 24.0 \n",
            "No: of Mugs       : 8.0 \n",
            "Optimal Solution  : 1360.0\n"
          ]
        }
      ]
    }
  ]
}